{
  "nbformat": 4,
  "nbformat_minor": 0,
  "metadata": {
    "colab": {
      "provenance": [],
      "authorship_tag": "ABX9TyNzAUQmUWAe41xIzuFMMKWL",
      "include_colab_link": true
    },
    "kernelspec": {
      "name": "python3",
      "display_name": "Python 3"
    },
    "language_info": {
      "name": "python"
    }
  },
  "cells": [
    {
      "cell_type": "markdown",
      "metadata": {
        "id": "view-in-github",
        "colab_type": "text"
      },
      "source": [
        "<a href=\"https://colab.research.google.com/github/Keerthana140404/Python/blob/main/Assignment4(python).ipynb\" target=\"_parent\"><img src=\"https://colab.research.google.com/assets/colab-badge.svg\" alt=\"Open In Colab\"/></a>"
      ]
    },
    {
      "cell_type": "code",
      "execution_count": null,
      "metadata": {
        "colab": {
          "base_uri": "https://localhost:8080/"
        },
        "id": "_kNtoQINt9uq",
        "outputId": "bab7e006-bb0e-4fa2-a3c2-e976d38241a2"
      },
      "outputs": [
        {
          "output_type": "stream",
          "name": "stdout",
          "text": [
            "Enter the value: 200\n",
            "Enter the value: 150\n",
            "Enter the value: 154\n",
            "454\n"
          ]
        }
      ],
      "source": [
        "a=int(input(\"Enter the value: \"))\n",
        "b=int(input(\"Enter the value: \"))\n",
        "c=int(input(\"Enter the value: \"))\n",
        "tot=a+b+c\n",
        "if(tot>=500):\n",
        "  dis=tot*10/100\n",
        "  fullam=tot-int(dis)\n",
        "  print(fullam)\n",
        "else:\n",
        "  print(tot)"
      ]
    },
    {
      "cell_type": "code",
      "source": [
        "a=int(input(\"Enter the value\"))\n",
        "b=int(input(\"Enter the value\"))\n",
        "if(a>=200):\n",
        "  dis=a*10/100\n",
        "  fullamt=a-int(dis)\n",
        "  print(fullamt)\n",
        "  print(fullamt/b)"
      ],
      "metadata": {
        "colab": {
          "base_uri": "https://localhost:8080/"
        },
        "id": "qvJdyPa2xL02",
        "outputId": "02cb3557-6e03-4da6-ce76-45c8b84aeda2"
      },
      "execution_count": null,
      "outputs": [
        {
          "output_type": "stream",
          "name": "stdout",
          "text": [
            "Enter the value250\n",
            "Enter the value2\n",
            "225\n",
            "112.5\n"
          ]
        }
      ]
    },
    {
      "cell_type": "code",
      "source": [
        "m1=int(input(\"Enter the value\"))\n",
        "m2=int(input(\"Enter the value\"))\n",
        "m3=int(input(\"Enter the value\"))\n",
        "m4=int(input(\"Enter the value\"))\n",
        "m5=int(input(\"Enter the value\"))\n",
        "avg=(m1+m2+m3+m4+m5)/5\n",
        "if(avg>=90):\n",
        "  print(\"A+\")\n",
        "elif(avg>=80 and avg<=89):\n",
        "  print(\"A\")\n",
        "elif(avg>=70 and avg<=79):\n",
        "  print(\"B\")\n",
        "elif(avg>=60 and avg<=69):\n",
        "  print(\"C\")\n",
        "else:\n",
        "  print(\"Fail\")"
      ],
      "metadata": {
        "colab": {
          "base_uri": "https://localhost:8080/"
        },
        "id": "ufIEy3wnya5V",
        "outputId": "371d1eb2-5c10-49de-cc65-9e345e14d62d"
      },
      "execution_count": null,
      "outputs": [
        {
          "output_type": "stream",
          "name": "stdout",
          "text": [
            "Enter the value12\n",
            "Enter the value32\n",
            "Enter the value12\n",
            "Enter the value13\n",
            "Enter the value14\n",
            "Fail\n"
          ]
        }
      ]
    },
    {
      "cell_type": "code",
      "source": [
        "unit=int(input(\"Enter the units \"));\n",
        "if(unit<=100):\n",
        "  amt=unit*0.5;\n",
        "elif(unit>100 and unit<=300):\n",
        "  amt=unit*0.75;\n",
        "else:\n",
        "  amt=unit*1;\n",
        "print(\"The total amount = \"+str(amt));"
      ],
      "metadata": {
        "colab": {
          "base_uri": "https://localhost:8080/"
        },
        "id": "ySgLiTZKuw4w",
        "outputId": "3b3125d0-6b4e-4ce3-cc38-6f6a1c87efd4"
      },
      "execution_count": null,
      "outputs": [
        {
          "output_type": "stream",
          "name": "stdout",
          "text": [
            "Enter the units 667\n",
            "The total amount = 667\n"
          ]
        }
      ]
    }
  ]
}