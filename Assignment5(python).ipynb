{
  "nbformat": 4,
  "nbformat_minor": 0,
  "metadata": {
    "colab": {
      "provenance": [],
      "authorship_tag": "ABX9TyOKWCLUSf9r6ET1Vls38bjD",
      "include_colab_link": true
    },
    "kernelspec": {
      "name": "python3",
      "display_name": "Python 3"
    },
    "language_info": {
      "name": "python"
    }
  },
  "cells": [
    {
      "cell_type": "markdown",
      "metadata": {
        "id": "view-in-github",
        "colab_type": "text"
      },
      "source": [
        "<a href=\"https://colab.research.google.com/github/Keerthana140404/Python/blob/main/Assignment5(python).ipynb\" target=\"_parent\"><img src=\"https://colab.research.google.com/assets/colab-badge.svg\" alt=\"Open In Colab\"/></a>"
      ]
    },
    {
      "cell_type": "code",
      "execution_count": null,
      "metadata": {
        "colab": {
          "base_uri": "https://localhost:8080/"
        },
        "id": "sLFzM2vy6SjY",
        "outputId": "e1ac634f-6943-4345-c22a-af31aa3d3282"
      },
      "outputs": [
        {
          "output_type": "stream",
          "name": "stdout",
          "text": [
            "\n",
            "Question 1: Which of the following is the correct syntax for a for loop in Python?\n",
            "A) for i in range(5)\n",
            "B) for i to 5\n",
            "C) for i = 0; i < 5;\n",
            "D) loop i in 5\n",
            "Enter your answer (A/B/C/D): a\n",
            "Correct!\n",
            "\n",
            "Question 2: Which function is used to find the length of a list in Python?\n",
            "A) size()\n",
            "B) len()\n",
            "C) length()\n",
            "D) count()\n",
            "Enter your answer (A/B/C/D): c\n",
            "Wrong! The correct answer was B.\n",
            "\n",
            "Question 3: What will be the output of print('Hello ' + 'World')?\n",
            "A) HelloWorld\n",
            "B) Hello World\n",
            "C) Hello+World\n",
            "D) Error\n",
            "Enter your answer (A/B/C/D): b\n",
            "Correct!\n",
            "\n",
            "Question 4: What is the correct file extension for Python files?\n",
            "A) .py\n",
            "B) .java\n",
            "C) .txt\n",
            "D) .p\n",
            "Enter your answer (A/B/C/D): a\n",
            "Correct!\n",
            "\n",
            "Question 5: Which of these is used to import a module in Python?\n",
            "A) import\n",
            "B) include\n",
            "C) require\n",
            "D) using\n",
            "Enter your answer (A/B/C/D): d\n",
            "Wrong! The correct answer was A.\n",
            "\n",
            "Final Score: 60.00%\n",
            "Good\n",
            "Would you like to restart the quiz? (yes/no): no\n",
            "Thanks for playing!\n"
          ]
        }
      ],
      "source": [
        "def questions():\n",
        "    questions = {\n",
        "        1: {\"question\": \"Which of the following is the correct syntax for a for loop in Python?\",\n",
        "            \"options\": {\"A\": \"for i in range(5)\", \"B\": \"for i to 5\", \"C\": \"for i = 0; i < 5;\", \"D\": \"loop i in 5\"},\n",
        "            \"answer\": \"A\"},\n",
        "        2: {\"question\": \"Which function is used to find the length of a list in Python?\",\n",
        "            \"options\": {\"A\": \"size()\", \"B\": \"len()\", \"C\": \"length()\", \"D\": \"count()\"},\n",
        "            \"answer\": \"B\"},\n",
        "        3: {\"question\": \"What will be the output of print('Hello ' + 'World')?\",\n",
        "            \"options\": {\"A\": \"HelloWorld\", \"B\": \"Hello World\", \"C\": \"Hello+World\", \"D\": \"Error\"},\n",
        "            \"answer\": \"B\"},\n",
        "        4: {\"question\": \"What is the correct file extension for Python files?\",\n",
        "            \"options\": {\"A\": \".py\", \"B\": \".java\", \"C\": \".txt\", \"D\": \".p\"},\n",
        "            \"answer\": \"A\"},\n",
        "        5: {\"question\": \"Which of these is used to import a module in Python?\",\n",
        "            \"options\": {\"A\": \"import\", \"B\": \"include\", \"C\": \"require\", \"D\": \"using\"},\n",
        "            \"answer\": \"A\"}\n",
        "    }\n",
        "    return questions\n",
        "\n",
        "def run_quiz():\n",
        "    quest = questions()\n",
        "    score = 0\n",
        "    for i, q in quest.items():\n",
        "        print(f\"\\nQuestion {i}: {q['question']}\")\n",
        "        for key, value in q['options'].items():\n",
        "            print(f\"{key}) {value}\")\n",
        "        user_answer = input(\"Enter your answer (A/B/C/D): \").strip().upper()\n",
        "        while user_answer not in [\"A\", \"B\", \"C\", \"D\"]:\n",
        "            user_answer = input(\"Invalid input! Please enter A, B, C, or D: \").strip().upper()\n",
        "        if user_answer == q['answer']:\n",
        "            print(\"Correct!\")\n",
        "            score += 1\n",
        "        else:\n",
        "            print(f\"Wrong! The correct answer was {q['answer']}.\")\n",
        "\n",
        "    final_score = (score / len(quest)) * 100\n",
        "    print(f\"\\nFinal Score: {final_score:.2f}%\")\n",
        "    if final_score >= 80:\n",
        "        print(\"Excellent\")\n",
        "    elif final_score >= 50:\n",
        "        print(\"Good\")\n",
        "    else:\n",
        "        print(\"You need to improve\")\n",
        "\n",
        "    retry = input(\"Would you like to restart the quiz? (yes/no): \").strip().lower()\n",
        "    if retry == \"yes\":\n",
        "        run_quiz()\n",
        "    else:\n",
        "        print(\"Thanks for playing!\")\n",
        "\n",
        "if __name__ == \"__main__\":\n",
        "    run_quiz()\n"
      ]
    },
    {
      "cell_type": "code",
      "source": [],
      "metadata": {
        "id": "OYYn4BVh6Ww1"
      },
      "execution_count": null,
      "outputs": []
    }
  ]
}